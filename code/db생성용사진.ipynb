{
 "cells": [
  {
   "cell_type": "code",
   "execution_count": 1,
   "metadata": {},
   "outputs": [],
   "source": [
    "import glob\n",
    "import os\n",
    "import shutil"
   ]
  },
  {
   "cell_type": "code",
   "execution_count": 12,
   "metadata": {},
   "outputs": [],
   "source": [
    "def make_db(path):\n",
    "    for f in glob.glob(path, recursive=True):\n",
    "        arr = f.split('\\\\')\n",
    "        try:\n",
    "            if arr[3] == '1.jpg':\n",
    "                source_file = f  # 복사할 파일의 경로\n",
    "                destination_file = 'D:\\\\DB\\\\' + arr[2] + '.jpg'  # 파일을 저장할 폴더의 경로 (비어있는 DB 폴더 생성 후 돌리기)\n",
    "                shutil.copy(source_file, destination_file)       \n",
    "        except:\n",
    "            pass\n",
    "    print('작업완료')"
   ]
  },
  {
   "cell_type": "code",
   "execution_count": 13,
   "metadata": {},
   "outputs": [
    {
     "name": "stdout",
     "output_type": "stream",
     "text": [
      "작업완료\n"
     ]
    }
   ],
   "source": [
    "path = 'D:\\\\Face_data\\\\**\\\\**'\n",
    "make_db(path)"
   ]
  },
  {
   "cell_type": "code",
   "execution_count": null,
   "metadata": {},
   "outputs": [],
   "source": []
  }
 ],
 "metadata": {
  "kernelspec": {
   "display_name": "base",
   "language": "python",
   "name": "python3"
  },
  "language_info": {
   "codemirror_mode": {
    "name": "ipython",
    "version": 3
   },
   "file_extension": ".py",
   "mimetype": "text/x-python",
   "name": "python",
   "nbconvert_exporter": "python",
   "pygments_lexer": "ipython3",
   "version": "3.9.13"
  },
  "orig_nbformat": 4
 },
 "nbformat": 4,
 "nbformat_minor": 2
}
