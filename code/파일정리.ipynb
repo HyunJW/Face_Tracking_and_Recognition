{
 "cells": [
  {
   "cell_type": "code",
   "execution_count": 1,
   "metadata": {},
   "outputs": [],
   "source": [
    "import glob\n",
    "import os"
   ]
  },
  {
   "cell_type": "code",
   "execution_count": 128,
   "metadata": {},
   "outputs": [],
   "source": [
    "# path: ex)D:\\\\face\\\\034.마스크 착용 한국인 안면 이미지 데이터\\\\01.데이터\\\\2.Validation\\\\라벨링데이터_230524_add\\\\FLD\\\\**\\\\**\\\\**\n",
    "\n",
    "def remove_file(path):\n",
    "    for f in glob.glob(path, recursive=True):\n",
    "        arr = f.split('\\\\')\n",
    "        try:\n",
    "            if arr[6] == 'VS1':\n",
    "                if (arr[8] == 'SPI') | (arr[8] == 'SPO'):\n",
    "                    if arr[10].split(\"_\")[-1].lower() != '01.jpg':\n",
    "                        os.remove(f)\n",
    "                        # print(1, f)\n",
    "                else:\n",
    "                    if arr[9].split(\"_\")[1] != '0':\n",
    "                        os.remove(f)\n",
    "                        # print(2, f)\n",
    "            elif arr[6] == 'VS2':\n",
    "                if arr[8].split(\"_\")[-1].lower() != '01.jpg':\n",
    "                    os.remove(f)\n",
    "                    # print(3, f)\n",
    "        except:\n",
    "            pass\n",
    "\n",
    "    for f in glob.glob(path, recursive=True):\n",
    "        try:\n",
    "            os.rmdir(f)\n",
    "        except:\n",
    "            pass\n",
    "    print('작업완료')"
   ]
  },
  {
   "cell_type": "code",
   "execution_count": 129,
   "metadata": {},
   "outputs": [
    {
     "name": "stdout",
     "output_type": "stream",
     "text": [
      "작업완료\n"
     ]
    }
   ],
   "source": [
    "path = 'D:\\\\Face\\\\034.마스크 착용 한국인 안면 이미지 데이터\\\\01.데이터\\\\2.Validation\\\\원천데이터\\\\**\\\\**\\\\**\\\\**'\n",
    "remove_file(path)"
   ]
  },
  {
   "cell_type": "code",
   "execution_count": null,
   "metadata": {},
   "outputs": [],
   "source": []
  }
 ],
 "metadata": {
  "kernelspec": {
   "display_name": "base",
   "language": "python",
   "name": "python3"
  },
  "language_info": {
   "codemirror_mode": {
    "name": "ipython",
    "version": 3
   },
   "file_extension": ".py",
   "mimetype": "text/x-python",
   "name": "python",
   "nbconvert_exporter": "python",
   "pygments_lexer": "ipython3",
   "version": "3.10.9"
  },
  "orig_nbformat": 4
 },
 "nbformat": 4,
 "nbformat_minor": 2
}
