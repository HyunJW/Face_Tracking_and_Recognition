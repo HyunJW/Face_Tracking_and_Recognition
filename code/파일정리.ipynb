{
 "cells": [
  {
   "cell_type": "code",
   "execution_count": 1,
   "metadata": {},
   "outputs": [],
   "source": [
    "import glob\n",
    "import os"
   ]
  },
  {
   "cell_type": "code",
   "execution_count": null,
   "metadata": {},
   "outputs": [],
   "source": [
    "# path: ex)D:\\\\face\\\\034.마스크 착용 한국인 안면 이미지 데이터\\\\01.데이터\\\\2.Validation\\\\라벨링데이터_230524_add\\\\FLD\\\\**\\\\**\\\\**\n",
    "\n",
    "def remove_file(path):\n",
    "    for f in glob.glob(path, recursive=True):\n",
    "        arr=f.split('\\\\')\n",
    "        try:\n",
    "            if int(arr[-3])<=100000:\n",
    "                arr2=arr[-2].split(\"_\")[-1]\n",
    "                if arr2!='01.jpg':\n",
    "                    os.remove(f)\n",
    "            else:\n",
    "                arr2=arr[-1].split(\"_\")[1]\n",
    "                if arr2!='0':\n",
    "                    os.remove(f)\n",
    "        except:\n",
    "            pass\n",
    "\n",
    "    for f in glob.glob(path, recursive=True):\n",
    "        try:\n",
    "            os.rmdir(f)\n",
    "        except:\n",
    "            pass\n",
    "    print('작업완료')"
   ]
  },
  {
   "cell_type": "code",
   "execution_count": null,
   "metadata": {},
   "outputs": [],
   "source": [
    "remove_file(~)"
   ]
  }
 ],
 "metadata": {
  "kernelspec": {
   "display_name": "base",
   "language": "python",
   "name": "python3"
  },
  "language_info": {
   "codemirror_mode": {
    "name": "ipython",
    "version": 3
   },
   "file_extension": ".py",
   "mimetype": "text/x-python",
   "name": "python",
   "nbconvert_exporter": "python",
   "pygments_lexer": "ipython3",
   "version": "3.9.13"
  },
  "orig_nbformat": 4
 },
 "nbformat": 4,
 "nbformat_minor": 2
}
