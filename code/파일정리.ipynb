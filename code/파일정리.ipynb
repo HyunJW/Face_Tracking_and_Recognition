{
 "cells": [
  {
   "cell_type": "code",
   "execution_count": 1,
   "metadata": {},
   "outputs": [],
   "source": [
    "import glob\n",
    "import os"
   ]
  },
  {
   "cell_type": "code",
   "execution_count": 11,
   "metadata": {},
   "outputs": [],
   "source": [
    "def remove_file(path):\n",
    "    for f in glob.glob(path, recursive=True):\n",
    "        arr = f.split('\\\\')\n",
    "        try:\n",
    "            if arr[6] == 'TS5':\n",
    "                if (arr[8] == 'SPI') | (arr[8] == 'SPO'):\n",
    "                    if arr[10].split(\"_\")[-1].lower() != '01.jpg':\n",
    "                        # os.remove(f)\n",
    "                        print(1, f)\n",
    "                elif arr[8] in ['STD1', 'STD2', 'STD3']:\n",
    "                    if arr[10] == 'IR':\n",
    "                        os.remove(f)\n",
    "                        # print(f)\n",
    "                else:\n",
    "                    if arr[9].split(\"_\")[1] != '0':\n",
    "                        # os.remove(f)\n",
    "                        print(2, f)\n",
    "            elif arr[5] == 'VS2':\n",
    "                if arr[8].split(\"_\")[-1].lower() != '01.jpg':\n",
    "                    # os.remove(f)\n",
    "                    print(3, f)\n",
    "        except:\n",
    "            pass\n",
    "\n",
    "    for f in glob.glob(path, recursive=True):\n",
    "        try:\n",
    "            os.rmdir(f)\n",
    "        except:\n",
    "            pass\n",
    "    print('작업완료')"
   ]
  },
  {
   "cell_type": "code",
   "execution_count": null,
   "metadata": {},
   "outputs": [],
   "source": [
    "path = 'D:\\\\Face\\\\034.마스크 착용 한국인 안면 이미지 데이터\\\\01.데이터\\\\1.Training\\\\원천데이터\\\\**\\\\**\\\\**\\\\**\\\\**'\n",
    "remove_file(path)"
   ]
  },
  {
   "cell_type": "code",
   "execution_count": 68,
   "metadata": {},
   "outputs": [],
   "source": [
    "# 폴더 내 사진 수 9장으로 통일(적으면 폴더 삭제)\n",
    "def del_image(path):\n",
    "    # 폴더 탐색\n",
    "    for f in glob.glob(path, recursive=True):\n",
    "        split_path = f.split('\\\\')\n",
    "        file_4 = split_path[2]\n",
    "        file_path = glob.glob(f + '\\\\**')\n",
    "        if len(split_path) == 3:\n",
    "            if len(file_4) == 4:\n",
    "                # 사진이 10개 이상인 폴더\n",
    "                if len(file_path) > 1:\n",
    "                    for p in file_path[1:-8]:\n",
    "                        os.remove(p)\n",
    "                        # print(p)\n",
    "            else:\n",
    "                if len(file_path) > 8:\n",
    "                    # os.remove(file_path[0])\n",
    "                    print(file_path[0])\n",
    "        \n",
    "        file_path = glob.glob(f + '\\\\**')\n",
    "        if len(file_path) != 9:\n",
    "            counter += 1\n",
    "            for p in file_path:\n",
    "                os.remove(p)\n",
    "                # print(p)\n",
    "    \n",
    "    for f in glob.glob(path, recursive=True):\n",
    "        try:\n",
    "            os.rmdir(f)\n",
    "        except:\n",
    "            pass\n",
    "    print('작업완료')"
   ]
  },
  {
   "cell_type": "code",
   "execution_count": 69,
   "metadata": {},
   "outputs": [
    {
     "name": "stdout",
     "output_type": "stream",
     "text": [
      "작업완료\n",
      "502\n"
     ]
    }
   ],
   "source": [
    "path = 'D:\\\\Face_data\\\\*'\n",
    "del_image(path)"
   ]
  },
  {
   "cell_type": "code",
   "execution_count": null,
   "metadata": {},
   "outputs": [],
   "source": []
  }
 ],
 "metadata": {
  "kernelspec": {
   "display_name": "base",
   "language": "python",
   "name": "python3"
  },
  "language_info": {
   "codemirror_mode": {
    "name": "ipython",
    "version": 3
   },
   "file_extension": ".py",
   "mimetype": "text/x-python",
   "name": "python",
   "nbconvert_exporter": "python",
   "pygments_lexer": "ipython3",
   "version": "3.9.16"
  },
  "orig_nbformat": 4
 },
 "nbformat": 4,
 "nbformat_minor": 2
}
